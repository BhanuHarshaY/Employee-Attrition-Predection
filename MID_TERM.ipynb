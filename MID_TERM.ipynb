{
  "nbformat": 4,
  "nbformat_minor": 0,
  "metadata": {
    "colab": {
      "provenance": [],
      "authorship_tag": "ABX9TyNvsNfXPZNK1Cy5WuXnXUNb",
      "include_colab_link": true
    },
    "kernelspec": {
      "name": "python3",
      "display_name": "Python 3"
    },
    "language_info": {
      "name": "python"
    }
  },
  "cells": [
    {
      "cell_type": "markdown",
      "metadata": {
        "id": "view-in-github",
        "colab_type": "text"
      },
      "source": [
        "<a href=\"https://colab.research.google.com/github/BhanuHarshaY/Employee-attrition/blob/main/MID_TERM.ipynb\" target=\"_parent\"><img src=\"https://colab.research.google.com/assets/colab-badge.svg\" alt=\"Open In Colab\"/></a>"
      ]
    },
    {
      "cell_type": "markdown",
      "source": [
        "## **MID TERM|EMPLOYEE ATTRITION DETECTION|AUTHOR: BHANU HARSHA Y | DT: 10/03/25**"
      ],
      "metadata": {
        "id": "M_CbAnnxtMse"
      }
    },
    {
      "cell_type": "code",
      "execution_count": 2,
      "metadata": {
        "id": "SFf72f5ttA5a"
      },
      "outputs": [],
      "source": [
        "# Importing all the necessary libraries required for this mid term\n",
        "\n",
        "#to ignore any warnings\n",
        "import warnings\n",
        "warnings.filterwarnings('ignore')\n",
        "\n",
        "#for data handling\n",
        "import pandas as pd\n",
        "import numpy as np\n",
        "\n",
        "#for EDA and data visualisation\n",
        "import matplotlib.pyplot as plt\n",
        "import seaborn as sns\n",
        "\n",
        "#for data pre processing and data splitting\n",
        "from sklearn.model_selection import train_test_split, cross_val_score, GridSearchCV, KFold\n",
        "from sklearn.preprocessing import StandardScaler, LabelEncoder\n",
        "\n",
        "#for feature selection\n",
        "from sklearn.feature_selection import SelectKBest, f_classif, RFE, SelectFromModel\n",
        "\n",
        "#for model training\n",
        "from sklearn.linear_model import LogisticRegression\n",
        "from sklearn.ensemble import RandomForestClassifier,GradientBoostingClassifier\n",
        "\n",
        "#for metric evaluation\n",
        "from sklearn.metrics import accuracy_score, confusion_matrix, classification_report, roc_curve, roc_auc_score\n",
        "from sklearn.metrics import precision_score, recall_score, f1_score\n",
        "from statsmodels.stats.outliers_influence import variance_inflation_factor\n",
        "\n",
        "#setting plot style\n",
        "plt.style.use('default')\n",
        "sns.set_palette('husl')\n",
        "\n",
        "\n",
        "\n"
      ]
    },
    {
      "cell_type": "markdown",
      "source": [
        "## **Q1) DATA COLLECTION AND UNDERSTANDING THE DATASET:**\n",
        "1.   Here we will load the data in to a dataframe(df) and  read the dataset from the provided input data file **\"employee_attrition_dataset.csv\"** using *Pandas library*. And then basic details of samples and feature characterstics will be discussed in the following code block.\n",
        "\n",
        "2. Make sure that you have already uploaded the file **employee_attrition_dataset.csv** to the Google Colab environment before running the below cell."
      ],
      "metadata": {
        "id": "92vrKnamPFGh"
      }
    },
    {
      "cell_type": "code",
      "source": [
        "#Q1: DATASET ANALYSIS\n",
        "\n",
        "print(f\"\\nLoading the dataset into a DF.\")\n",
        "df = pd.read_csv('employee_attrition_dataset.csv')\n",
        "print(f\"\\nDataset got loaded successfully: \")\n",
        "print(df)\n",
        "\n",
        "print(\"\\nDATASET OVERVIEW\")\n",
        "print(f\"\\nDataset Shape: {df.shape}\")\n",
        "print(f\"\\nNo of rows[SAMPLES] present in the dataset: {df.shape[0]:,}\")\n",
        "print(f\"\\nNumber of columns[FEATURES] present in the dataset: {df.shape[1]}\")\n",
        "\n",
        "print(f\"\\nDataset is LABELED with target class being  ATTRITION.\")\n",
        "\n",
        "#Feature type\n",
        "print(\"\\nDATA TYPE OF EACH FEATURE PRESENT IN THE DATASET:\")\n",
        "print(df.dtypes)\n",
        "\n",
        "# Class distribution\n",
        "class_distribution = df['Attrition'].value_counts()\n",
        "class_percentage = df['Attrition'].value_counts(normalize=True) * 100\n",
        "print(f\"\\nATTRITION CLASS DISTRIBUTION\")\n",
        "print(f\"Majority Class (No Attrition - Stays in the company): {class_distribution['No']} samples ({class_percentage['No']:.2f}%)\")\n",
        "print(f\"Minority Class (Yes Attrition - Leaves the company): {class_distribution['Yes']} samples ({class_percentage['Yes']:.2f}%)\")"
      ],
      "metadata": {
        "colab": {
          "base_uri": "https://localhost:8080/"
        },
        "id": "Lqm_CAg3LHL7",
        "outputId": "97b4d739-aa7b-4f7f-ed6f-24829252e0d7"
      },
      "execution_count": 3,
      "outputs": [
        {
          "output_type": "stream",
          "name": "stdout",
          "text": [
            "\n",
            "Loading the dataset into a DF.\n",
            "\n",
            "Dataset got loaded successfully: \n",
            "      Employee_ID  Age  ... Number_of_Companies_Worked Attrition\n",
            "0               1   58  ...                          3        No\n",
            "1               2   48  ...                          1        No\n",
            "2               3   34  ...                          1       Yes\n",
            "3               4   27  ...                          2        No\n",
            "4               5   40  ...                          4        No\n",
            "...           ...  ...  ...                        ...       ...\n",
            "9995         9996   22  ...                          2        No\n",
            "9996         9997   35  ...                          1        No\n",
            "9997         9998   23  ...                          1       Yes\n",
            "9998         9999   42  ...                          3        No\n",
            "9999        10000   39  ...                          2       Yes\n",
            "\n",
            "[10000 rows x 26 columns]\n",
            "\n",
            "DATASET OVERVIEW\n",
            "\n",
            "Dataset Shape: (10000, 26)\n",
            "\n",
            "No of rows[SAMPLES] present in the dataset: 10,000\n",
            "\n",
            "Number of columns[FEATURES] present in the dataset: 26\n",
            "\n",
            "Dataset is LABELED with target class being  ATTRITION.\n",
            "\n",
            "DATA TYPE OF EACH FEATURE PRESENT IN THE DATASET:\n",
            "Employee_ID                       int64\n",
            "Age                               int64\n",
            "Gender                           object\n",
            "Marital_Status                   object\n",
            "Department                       object\n",
            "Job_Role                         object\n",
            "Job_Level                         int64\n",
            "Monthly_Income                    int64\n",
            "Hourly_Rate                       int64\n",
            "Years_at_Company                  int64\n",
            "Years_in_Current_Role             int64\n",
            "Years_Since_Last_Promotion        int64\n",
            "Work_Life_Balance                 int64\n",
            "Job_Satisfaction                  int64\n",
            "Performance_Rating                int64\n",
            "Training_Hours_Last_Year          int64\n",
            "Overtime                         object\n",
            "Project_Count                     int64\n",
            "Average_Hours_Worked_Per_Week     int64\n",
            "Absenteeism                       int64\n",
            "Work_Environment_Satisfaction     int64\n",
            "Relationship_with_Manager         int64\n",
            "Job_Involvement                   int64\n",
            "Distance_From_Home                int64\n",
            "Number_of_Companies_Worked        int64\n",
            "Attrition                        object\n",
            "dtype: object\n",
            "\n",
            "ATTRITION CLASS DISTRIBUTION\n",
            "Majority Class (No Attrition - Stays in the company): 8003 samples (80.03%)\n",
            "Minority Class (Yes Attrition - Leaves the company): 1997 samples (19.97%)\n"
          ]
        }
      ]
    }
  ]
}